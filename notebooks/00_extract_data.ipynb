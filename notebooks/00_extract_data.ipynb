{
 "cells": [
  {
   "cell_type": "code",
   "execution_count": 2,
   "id": "c3ce828d",
   "metadata": {},
   "outputs": [],
   "source": [
    "\n",
    "import pandas as pd \n",
    "import numpy as np\n",
    "import matplotlib.pyplot as plt\n",
    "import seaborn as sns\n",
    "\n",
    "\n",
    "\n",
    "import ta as ta #libreria para extraccion de indicadores tecnicos \n",
    "import yfinance as yf #libreria para descargar datos de productos financieros"
   ]
  },
  {
   "cell_type": "code",
   "execution_count": 3,
   "id": "14cb81f9",
   "metadata": {},
   "outputs": [],
   "source": [
    "# Definimos los tickets de los activo\n",
    "vandguard_sp500 = 'VOO'\n",
    "vandguard_nasdaq = 'VGT'\n",
    "vandguard_dowjones = 'VIG'\n"
   ]
  },
  {
   "cell_type": "code",
   "execution_count": 4,
   "id": "fca3f5b8",
   "metadata": {},
   "outputs": [],
   "source": [
    "def extract_clean_ticker(ticker: str, start=None, end=None, interval='1d') -> pd.DataFrame:\n",
    "    \"\"\"\n",
    "    Descarga y limpia datos históricos de un ticker con yfinance.\n",
    "    \n",
    "    Args:\n",
    "        ticker (str): Símbolo del ticker (ej: 'VOO', '^GSPC')\n",
    "        start (str): Fecha de inicio 'YYYY-MM-DD'\n",
    "        end (str): Fecha de fin 'YYYY-MM-DD'\n",
    "        interval (str): Intervalo temporal ('1d', '1wk', etc.)\n",
    "        \n",
    "    Returns:\n",
    "        pd.DataFrame: DataFrame limpio con columnas estandarizadas.\n",
    "    \"\"\"\n",
    "    df = yf.download(\n",
    "        tickers=ticker,\n",
    "        start=start,\n",
    "        end=end,\n",
    "        interval=interval,\n",
    "        auto_adjust=True,\n",
    "        progress=False\n",
    "    )\n",
    "    \n",
    "\n",
    "    if isinstance(df.columns, pd.MultiIndex):             # Si las columnas del DataFrame son un MultiIndex (por ejemplo, tras descargar datos con varias series),\n",
    "        df.columns = df.columns.droplevel(1)              # se elimina el segundo nivel del MultiIndex para simplificar.\n",
    "        df.columns = df.columns.get_level_values(0)       # se selecciona solo el primer nivel de nombres de columna para simplificar el DataFrame.\n",
    "    \n",
    "    df = df.reset_index()\n",
    "    df.rename(columns={\"Date\": \"date\"}, inplace=True)\n",
    "    df['date'] = pd.to_datetime(df['date'])\n",
    "    df.columns = [col.lower() for col in df.columns]\n",
    "    df = df.sort_values('date')                           # Asegurarse de que los datos están ordenados por fecha\n",
    "    df = df.round(3)                                       #Redondear los valores float a 3 decimales\n",
    "    \n",
    "    # Asegurarse de que las columnas necesarias están presentes\n",
    "    cols_esperadas = {'open', 'high', 'low', 'close', 'volume'}\n",
    "    if not cols_esperadas.issubset(df.columns):\n",
    "        raise ValueError(f\"Faltan columnas necesarias en {ticker}: {cols_esperadas - set(df.columns)}\")\n",
    "    \n",
    "    return df"
   ]
  },
  {
   "cell_type": "code",
   "execution_count": 7,
   "id": "e928f349",
   "metadata": {},
   "outputs": [],
   "source": [
    "#extraemos los datos para VOO\n",
    "df_voo = extract_clean_ticker(vandguard_sp500, start='2010-01-01', end='2025-05-01')\n",
    "#cambiamos la columna date a tipo datetime\n",
    "df_voo['date'] = pd.to_datetime(df_voo['date'])\n",
    "#exportamos los datos a un csv en la carpeta data\n",
    "df_voo.to_csv('../data/VOO.csv', index=False)"
   ]
  },
  {
   "cell_type": "code",
   "execution_count": null,
   "id": "54b29bf1",
   "metadata": {},
   "outputs": [],
   "source": []
  }
 ],
 "metadata": {
  "kernelspec": {
   "display_name": "venv",
   "language": "python",
   "name": "python3"
  },
  "language_info": {
   "codemirror_mode": {
    "name": "ipython",
    "version": 3
   },
   "file_extension": ".py",
   "mimetype": "text/x-python",
   "name": "python",
   "nbconvert_exporter": "python",
   "pygments_lexer": "ipython3",
   "version": "3.12.1"
  }
 },
 "nbformat": 4,
 "nbformat_minor": 5
}
