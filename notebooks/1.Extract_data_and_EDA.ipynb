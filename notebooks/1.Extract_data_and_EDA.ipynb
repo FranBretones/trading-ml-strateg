{
 "cells": [
  {
   "cell_type": "markdown",
   "id": "bcfaefd1",
   "metadata": {},
   "source": [
    "#### Importar librerias\n"
   ]
  },
  {
   "cell_type": "code",
   "execution_count": null,
   "id": "c3ce828d",
   "metadata": {},
   "outputs": [],
   "source": [
    "# Manipuladcion de datos \n",
    "import pandas as pd \n",
    "import plotly.graph_objects as go\n",
    "from plotly.subplots import make_subplots\n",
    "import plotly.express as px\n",
    "import seaborn as sns\n",
    "import matplotlib.pyplot as plt\n",
    "\n",
    "#libreria para descargar datos de productos financieros\n",
    "import yfinance as yf \n",
    "\n",
    "# Calculo de indicadores tecnicos 'ta package' \n",
    "import ta as ta  \n",
    "from ta.momentum import RSIIndicator, StochasticOscillator,AwesomeOscillatorIndicator\n",
    "from ta.trend import MACD, ADXIndicator,IchimokuIndicator\n",
    "from ta.volatility import BollingerBands, AverageTrueRange\n",
    "from ta.trend import SMAIndicator, EMAIndicator\n",
    "\n"
   ]
  },
  {
   "cell_type": "markdown",
   "id": "4f4b9e40",
   "metadata": {},
   "source": [
    "\n",
    "[enlace a Documentacion libreria TA]: https://technical-analysis-library-in-python.readthedocs.io/en/latest/ta.html\n",
    "[**Visita la documentación libreria TA** ][enlace a Documentacion libreria TA]"
   ]
  },
  {
   "cell_type": "markdown",
   "id": "58351311",
   "metadata": {},
   "source": [
    "#### Extraccion de datos OHLCV (Open,High,Low,Close,Volume) del ticket definido \n",
    "- Elegimos Tickets\n",
    "- Funcion extract_clean_ticker() para crear el dataset inicial y tener los datos historicos. "
   ]
  },
  {
   "cell_type": "code",
   "execution_count": null,
   "id": "14cb81f9",
   "metadata": {},
   "outputs": [],
   "source": [
    "# Definimos los tickets \n",
    "vandguard_sp500 = 'VOO'\n"
   ]
  },
  {
   "cell_type": "code",
   "execution_count": null,
   "id": "fca3f5b8",
   "metadata": {},
   "outputs": [],
   "source": [
    "def extract_clean_ticker(ticker: str, start=None, end=None, interval=None) -> pd.DataFrame:\n",
    "    \"\"\"\n",
    "    Descarga y limpia datos históricos de un ticker con yfinance y genera todo el dataframe que se utilizara para analizar el stock. \n",
    "    \n",
    "    Args:\n",
    "        ticker (str): Símbolo del ticker (ej: 'VOO', '^GSPC')\n",
    "        start (str): Fecha de inicio 'YYYY-MM-DD'\n",
    "        end (str): Fecha de fin 'YYYY-MM-DD'\n",
    "        interval (str): Intervalo temporal ('1d', '1wk', '1h', etc.)\n",
    "        \n",
    "    Returns:\n",
    "        pd.DataFrame: DataFrame limpio con columnas estandarizadas.\n",
    "    \"\"\"\n",
    "    df = yf.download(\n",
    "        tickers=ticker,\n",
    "        start=start,\n",
    "        end=end,\n",
    "        interval=interval,\n",
    "        auto_adjust=True,\n",
    "        progress=False\n",
    "    )\n",
    "\n",
    "    if isinstance(df.columns, pd.MultiIndex):\n",
    "        df.columns = df.columns.droplevel(1)\n",
    "\n",
    "    df = df.reset_index()\n",
    "\n",
    "    # Detectar automáticamente la columna de fecha\n",
    "    date_col = None\n",
    "    for col in df.columns:\n",
    "        if 'date' in col.lower() or 'time' in col.lower():\n",
    "            date_col = col\n",
    "            break\n",
    "    if date_col is None:\n",
    "        raise ValueError(f\"No se encontró columna de fecha en {ticker}\")\n",
    "\n",
    "    df.rename(columns={date_col: \"date\"}, inplace=True)\n",
    "    df['date'] = pd.to_datetime(df['date'])\n",
    "    df['date'] = df['date'].dt.tz_localize(None)\n",
    "    df.columns = [col.lower() for col in df.columns]\n",
    "    df = df.sort_values('date')\n",
    "    df = df.round(3)\n",
    "\n",
    "    cols_esperadas = {'open', 'high', 'low', 'close', 'volume'}\n",
    "    if not cols_esperadas.issubset(df.columns):\n",
    "        raise ValueError(f\"Faltan columnas necesarias en {ticker}: {cols_esperadas - set(df.columns)}\")\n",
    "\n",
    "    return df"
   ]
  },
  {
   "cell_type": "code",
   "execution_count": null,
   "id": "e928f349",
   "metadata": {},
   "outputs": [],
   "source": [
    "\n",
    "df_voo = extract_clean_ticker(vandguard_sp500, start='2010-01-01', end='2025-06-01', interval='1d')\n",
    "\n",
    "df_voo['date'] = pd.to_datetime(df_voo['date'])\n"
   ]
  },
  {
   "cell_type": "markdown",
   "id": "bdd7b563",
   "metadata": {},
   "source": [
    "#### Agregar indicadores tecnicos al dataframe"
   ]
  },
  {
   "cell_type": "code",
   "execution_count": null,
   "id": "54b29bf1",
   "metadata": {},
   "outputs": [],
   "source": [
    "\n",
    "def añadir_indicadores_tecnicos(df: pd.DataFrame) -> pd.DataFrame:\n",
    "    \"\"\"\n",
    "    Calcula e incorpora indicadores técnicos  y divergencias \n",
    "    al DataFrame de precios OHLCV para análisis diario.\n",
    "    \n",
    "    Parámetros:\n",
    "    -----------\n",
    "    df : pd.DataFrame\n",
    "        Dataframe con columnas 'open', 'high', 'low', 'close', 'volume'.\n",
    "    \n",
    "    Retorna:\n",
    "    --------\n",
    "    pd.DataFrame\n",
    "        DataFrame con columnas adicionales para cada indicador y divergencias.\n",
    "    \n",
    "    Indicadores incluidos:\n",
    "    ---------------------\n",
    "    - RSI (Relative Strength Index) : fuerza relativa de precios.\n",
    "    - MACD : tendencia y momentum; columnas macd, macd_signal, macd_diff.\n",
    "    - Estocástico (%K, %D) : sobrecompra/sobreventa.\n",
    "    - Bandas de Bollinger : volatilidad y niveles de soporte/resistencia dinámicos.\n",
    "    - ATR (Average True Range) : volatilidad real del mercado.\n",
    "    - SMA y EMA : medias móviles simples y exponenciales.\n",
    "    - ADX : fuerza de tendencia.\n",
    "    \n",
    "    \"\"\"\n",
    "    df = df.copy()\n",
    "    df['daily_return'] = df['close'].pct_change()\n",
    "    # RSI\n",
    "    rsi = RSIIndicator(close=df['close'], window=14)\n",
    "    df['rsi'] = rsi.rsi()  # Oscilador de fuerza relativa\n",
    "\n",
    "    # MACD\n",
    "    macd = MACD(close=df['close'])\n",
    "    df['macd'] = macd.macd()  # Línea MACD\n",
    "    df['macd_signal'] = macd.macd_signal()  # Línea de señal\n",
    "    df['macd_diff'] = macd.macd_diff()  # Histograma MACD\n",
    "\n",
    "    # Estocástico\n",
    "    stoch = StochasticOscillator(high=df['high'], low=df['low'], close=df['close'], window=14, smooth_window=3)\n",
    "    df['stochastic_k'] = stoch.stoch()  # Línea %K\n",
    "    df['stochastic_d'] = stoch.stoch_signal()  # Línea %D o linea de confirmacion\n",
    "\n",
    "    # Bandas de Bollinger\n",
    "    bb = BollingerBands(close=df['close'], window=20, window_dev=2)\n",
    "    df['bollinger_hband'] = bb.bollinger_hband()  # Banda superior\n",
    "    df['bollinger_lband'] = bb.bollinger_lband()  # Banda inferior\n",
    "    df['bollinger_mavg'] = bb.bollinger_mavg()    # Media central\n",
    "    df['bollinger_width'] = bb.bollinger_wband()  # Ancho de banda : valores entre hband - lband\n",
    "\n",
    "    # ATR\n",
    "    atr = AverageTrueRange(high=df['high'], low=df['low'], close=df['close'], window=14)\n",
    "    df['atr'] = atr.average_true_range()  # Medida de volatilidad\n",
    "\n",
    "    # EMA\n",
    "    df['ema_20'] = EMAIndicator(close=df['close'], window=20).ema_indicator()\n",
    "    df['ema_50'] = EMAIndicator(close=df['close'], window=50).ema_indicator()\n",
    "    df['ema_200'] = EMAIndicator(close=df['close'], window=200).ema_indicator()\n",
    "    df['ema_9'] = EMAIndicator(close=df['close'], window=9).ema_indicator()\n",
    "    \n",
    "    \n",
    "    # Ichimoku Cloud: identifica soporte, resistencia y tendencia\n",
    "    ichimoku = IchimokuIndicator(high=df['high'], low=df['low'], window1=9, window2=26, window3=52)\n",
    "    df['ichimoku_a'] = ichimoku.ichimoku_a() #linea Senkou Span A \n",
    "    df['ichimoku_b'] = ichimoku.ichimoku_b() # linea Senkou Span B\n",
    "    df['ichimoku_base'] = ichimoku.ichimoku_base_line() # linea Kijun-sen\n",
    "    df['ichimoku_conversion'] = ichimoku.ichimoku_conversion_line() #linea Tenkan-Sen\n",
    "\n",
    "    # ADX\n",
    "    adx = ADXIndicator(high=df['high'], low=df['low'], close=df['close'], window=14)\n",
    "    df['adx'] = adx.adx()  # Fuerza de tendencia\n",
    "\n",
    "    # Volumen relativo\n",
    "    df['volume_sma_20'] = SMAIndicator(close=df['volume'], window=20).sma_indicator()\n",
    "    df['volume_ratio'] = df['volume'] / df['volume_sma_20']  # Para usar en filtrado de divergencias\n",
    "    \n",
    "    # Awesome Oscillator: mide la presión del mercado y puede usarse para divergencias con volumen\n",
    "    ao = AwesomeOscillatorIndicator(high=df['high'], low=df['low'])\n",
    "    df['awesome_osc'] = ao.awesome_oscillator()\n",
    "    \n",
    "\n",
    "    df = df.round(3)\n",
    "    df = df.dropna().reset_index(drop=True)\n",
    "\n",
    "    return df\n"
   ]
  },
  {
   "cell_type": "code",
   "execution_count": null,
   "id": "6e8e8f4e",
   "metadata": {},
   "outputs": [],
   "source": [
    "df_voo = añadir_indicadores_tecnicos(df_voo)"
   ]
  },
  {
   "cell_type": "code",
   "execution_count": null,
   "id": "491a5621",
   "metadata": {},
   "outputs": [],
   "source": [
    "\n",
    "df_voo.to_csv('../data/VOO.csv', index=False)"
   ]
  },
  {
   "cell_type": "code",
   "execution_count": null,
   "id": "921f8d6b",
   "metadata": {},
   "outputs": [],
   "source": [
    "df_voo.head()"
   ]
  },
  {
   "cell_type": "code",
   "execution_count": null,
   "id": "013e5f5b",
   "metadata": {},
   "outputs": [],
   "source": [
    "print(\"Información del DataFrame:\")\n",
    "df_voo.info()\n",
    "print(\"Resumen Estadístico:\")\n",
    "display(df_voo.describe().T)"
   ]
  },
  {
   "cell_type": "code",
   "execution_count": null,
   "id": "35f47f57",
   "metadata": {},
   "outputs": [],
   "source": [
    "\n",
    "print(\"2. Análisis de Series Temporales\")\n",
    "fig_price_volume = make_subplots(rows=2, cols=1, shared_xaxes=True,vertical_spacing=0.1, row_heights=[0.7, 0.3])\n",
    "\n",
    "# Gráfico de Precios con Medias Móviles\n",
    "fig_price_volume.add_trace(go.Scatter(x=df_voo['date'], y=df_voo['close'], name='Precio de Cierre', line=dict(color='black')), row=1, col=1)\n",
    "fig_price_volume.add_trace(go.Scatter(x=df_voo['date'], y=df_voo['ema_20'], name='EMA 20 días', line=dict(color='orange', dash='dash')), row=1, col=1)\n",
    "fig_price_volume.add_trace(go.Scatter(x=df_voo['date'], y=df_voo['ema_50'], name='EMA 50 días', line=dict(color='red', dash='dash')), row=1, col=1)\n",
    "\n",
    "# Gráfico de Volumen\n",
    "fig_price_volume.add_trace(go.Bar(x=df_voo['date'], y=df_voo['volume'], name='Volumen', marker_color='gray'), row=2, col=1)\n",
    "\n",
    "fig_price_volume.update_layout(title_text='Análisis de Precio y Volumen', legend_title_text='Leyenda')\n",
    "fig_price_volume.update_yaxes(title_text=\"Precio ($)\", row=1, col=1)\n",
    "fig_price_volume.update_yaxes(title_text=\"Volumen\", row=2, col=1)\n",
    "fig_price_volume.show()\n"
   ]
  },
  {
   "cell_type": "code",
   "execution_count": null,
   "id": "6b8a6ec0",
   "metadata": {},
   "outputs": [],
   "source": [
    "# Análisis de Distribución y Volatilidad\n",
    "print(\"\\n3. Análisis de Distribución y Volatilidad\")\n",
    "df_voo['daily_return'] = df_voo['close'].pct_change()\n",
    "\n",
    "# Histograma de los retornos diarios\n",
    "fig_hist = px.histogram(df_voo.dropna(), x='daily_return', nbins=100,title='Distribución de los Retornos Diarios', labels={'daily_return': 'Retorno Diario'})\n",
    "fig_hist.show()\n",
    "\n",
    "# Gráfico de Volatilidad Móvil\n",
    "fig_vol = px.line(df_voo, x='date', y='atr',title='Volatilidad del Mercado (ATR 14 días)', labels={'atr': 'Average True Range'})\n",
    "fig_vol.show()"
   ]
  },
  {
   "cell_type": "code",
   "execution_count": null,
   "id": "b9585f05",
   "metadata": {},
   "outputs": [],
   "source": [
    "print(\"\\nAnálisis de Caídas Máximas (Drawdown)\")\n",
    "\n",
    "# Calculo de rendimientos acumulados \n",
    "df_voo['cumulative_return'] = (1 + df_voo['daily_return']).cumprod()\n",
    "\n",
    "# Calcula el maximo historico\n",
    "df_voo['running_max'] = df_voo['cumulative_return'].cummax()\n",
    "\n",
    "# calcula las mayores caidas del activo \n",
    "df_voo['drawdown'] = (df_voo['cumulative_return'] - df_voo['running_max']) /df_voo['running_max']\n",
    "\n",
    "#Visualizar eel drawdonw\n",
    "\n",
    "fig_drawdown = go.Figure()\n",
    "fig_drawdown.add_trace(go.Scatter(\n",
    "    x=df_voo['date'], y=df_voo['drawdown'], \n",
    "    fill='tozeroy', fillcolor='rgba(255, 0, 0, 0.3)',\n",
    "    line_color='red', name='Drawdown'))\n",
    "\n",
    "fig_drawdown.update_layout(title='Análisis de Caídas Máximas (Drawdown) del Activo',yaxis_title='Caída desde el Máximo (%)')\n",
    "fig_drawdown.show()"
   ]
  },
  {
   "cell_type": "code",
   "execution_count": null,
   "id": "e395d5fe",
   "metadata": {},
   "outputs": [],
   "source": [
    "\n",
    "features = [\n",
    "    'close', \n",
    "    'volume_ratio',\n",
    "    'daily_return', \n",
    "    'rsi', \n",
    "    'macd_diff', \n",
    "    'stochastic_k', \n",
    "    'bollinger_width', \n",
    "    'atr', \n",
    "    'adx'\n",
    "]\n",
    "\n",
    "features_existentes = [feat for feat in features if feat in df_voo.columns]\n",
    "\n",
    "correlation_matrix = df_voo[features_existentes].corr()\n",
    "\n",
    "plt.figure(figsize=(12, 10))\n",
    "sns.heatmap(correlation_matrix, annot=True, cmap='coolwarm', fmt=\".2f\", linewidths=.5)\n",
    "plt.title('Matriz de Correlación de Indicadores Técnicos')\n",
    "plt.show()"
   ]
  },
  {
   "cell_type": "markdown",
   "id": "a837e854",
   "metadata": {},
   "source": [
    "BAJARAR HACER ANALISIS ESTADISTICO CON SCIPY"
   ]
  }
 ],
 "metadata": {
  "kernelspec": {
   "display_name": "venv",
   "language": "python",
   "name": "python3"
  },
  "language_info": {
   "codemirror_mode": {
    "name": "ipython",
    "version": 3
   },
   "file_extension": ".py",
   "mimetype": "text/x-python",
   "name": "python",
   "nbconvert_exporter": "python",
   "pygments_lexer": "ipython3",
   "version": "3.13.3"
  }
 },
 "nbformat": 4,
 "nbformat_minor": 5
}
