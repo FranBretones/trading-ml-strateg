{
 "cells": [
  {
   "cell_type": "markdown",
   "id": "786efdf5",
   "metadata": {},
   "source": [
    "## Hipótesis 4: Sobre el Poder Predictivo del Machine Learning \n",
    "\n",
    "- **Hipótesis Nula (H₀)**: Un modelo de Machine Learning, usando los indicadores como características, no es capaz de generar una señal de trading que produzca un rendimiento superior al de la mejor estrategia basada en reglas que encontramos.\n",
    "\n",
    "\n",
    "- **Hipótesis Alternativa (H₁)**: Un modelo de Machine Learning sí puede aprender patrones complejos para generar una señal más inteligente, logrando un rendimiento superior y/o un mejor rendimiento ajustado al riesgo que cualquier estrategia de reglas fijas.\n"
   ]
  },
  {
   "cell_type": "markdown",
   "id": "97ce2c71",
   "metadata": {},
   "source": [
    "**Objetivo del Notebook**\n",
    "\n",
    "Este notebook tiene como objetivo desarrollar un modelo de Machine Learning capaz de generar señales de compra superiores a la mejor estrategia basada en reglas identificada en el análisis anterior (signal_ichimoku_kijun_cross con un retorno del 181.63%). Se probarán y evaluarán múltiples algoritmos de clasificación para encontrar el modelo con el mejor rendimiento predictivo y, finalmente, se guardará el modelo campeón para su posterior evaluación en un backtest.\n",
    "\n"
   ]
  },
  {
   "cell_type": "markdown",
   "id": "21dd27a9",
   "metadata": {},
   "source": [
    " **Interpretación de las Métricas de Evaluación de Modelos**\n",
    "\n",
    "Para evaluar el rendimiento de nuestros modelos de clasificación, utilizamos un **Informe de Clasificación** estándar, que proporciona varias métricas clave.  \n",
    "Dado que nuestro objetivo es generar señales de compra fiables, nos centramos principalmente en el rendimiento del modelo para la **clase 1** (que representa una oportunidad de compra exitosa).\n",
    "\n",
    "---\n",
    "\n",
    " **Métricas Principales (Clase 1)**\n",
    "\n",
    "Estas métricas evalúan la capacidad del modelo para identificar correctamente las oportunidades de inversión.\n",
    "\n",
    "**Precision** (Precisión)\n",
    "- **Pregunta que responde:**  \n",
    "  De todas las veces que el modelo predijo \"**¡Compra!**\", ¿qué porcentaje de veces acertó?\n",
    "\n",
    "- **Relevancia en el Proyecto:**  \n",
    "  Es la métrica más importante. Una alta precisión es crucial para una estrategia de trading, ya que minimiza el capital desperdiciado en falsas alarmas y operaciones perdedoras.\n",
    "\n",
    "**Recall (Sensibilidad)**\n",
    "- **Pregunta que responde:**  \n",
    "  De todas las oportunidades de compra reales que hubo, ¿cuántas fue capaz de encontrar el modelo?\n",
    "\n",
    "- **Relevancia en el Proyecto:**  \n",
    "  Mide la capacidad del modelo para no perderse ganancias potenciales.  \n",
    "  Existe un *trade-off* inherente entre la **Precisión** y el **Recall**.\n",
    "\n",
    "**F1-Score**\n",
    "- **Pregunta que responde:**  \n",
    "  ¿Cuál es el equilibrio armónico entre la **Precisión** y el **Recall**?\n",
    "\n",
    "- **Relevancia en el Proyecto:**  \n",
    "  Es una métrica global útil para comparar modelos que tienen diferentes equilibrios de Precisión/Recall.\n",
    "\n",
    " **Support**\n",
    "- **Qué significa:**  \n",
    "  Es simplemente el número total de ejemplos reales de esa clase en el conjunto de datos de prueba.\n",
    "\n",
    "---\n",
    "\n",
    "**Métricas Globales**\n",
    "\n",
    " **Accuracy (Exactitud)**\n",
    "- **Qué significa:**  \n",
    "  De todas las predicciones realizadas, ¿qué porcentaje fue correcto?\n",
    "\n",
    "- **Nota:**  \n",
    "  Esta métrica puede ser engañosa en datasets desbalanceados como el nuestro.  \n",
    "  Un modelo inútil que siempre predice \"**No Compra**\" podría tener una exactitud alta.\n",
    "\n",
    " **Macro Avg & Weighted Avg**\n",
    "- **Qué significan:**  \n",
    "  Son las medias de las métricas (**Precisión**, **Recall**, **F1**) a través de ambas clases.  \n",
    "  La **Media Ponderada (Weighted Avg)** es más relevante para nosotros, ya que ajusta el cálculo según el número de ejemplos en cada clase.\n"
   ]
  },
  {
   "cell_type": "markdown",
   "id": "5b5bb03c",
   "metadata": {},
   "source": [
    "### 1. Configuración del Entorno\n"
   ]
  },
  {
   "cell_type": "code",
   "execution_count": null,
   "id": "c7f488dd",
   "metadata": {},
   "outputs": [],
   "source": [
    "\n",
    "import pandas as pd\n",
    "import matplotlib.pyplot as plt\n",
    "import pickle\n",
    "import os\n",
    "\n",
    "from sklearn.model_selection import train_test_split, RandomizedSearchCV\n",
    "from sklearn.preprocessing import StandardScaler\n",
    "from sklearn.metrics import classification_report, ConfusionMatrixDisplay\n",
    "\n",
    "from sklearn.linear_model import LogisticRegression\n",
    "from sklearn.ensemble import RandomForestClassifier, GradientBoostingClassifier\n",
    "from sklearn.svm import SVC\n",
    "from sklearn.neural_network import MLPClassifier\n",
    "from imblearn.over_sampling import SMOTE\n",
    "from xgboost import XGBClassifier\n"
   ]
  },
  {
   "cell_type": "markdown",
   "id": "b1a08b99",
   "metadata": {},
   "source": [
    "### 2. Preparación de Datos para Machine Learning\n",
    "- El éxito de cualquier modelo de ML depende de la calidad de los datos con los que se entrena. \n",
    "- En esta fase, definiremos el problema a resolver (la variable target), seleccionaremos las características más informativas y prepararemos los datos para el entrenamiento."
   ]
  },
  {
   "cell_type": "markdown",
   "id": "460f88f8",
   "metadata": {},
   "source": [
    "#### 2.1. Carga y Enriquecimiento de Datos\n",
    "- Se carga el dataset pre-procesado del notebook anterior, que ya contiene los indicadores técnicos calculados y el ``target``.\n",
    "- el target que establecimos fue si el precio subiria un 4% en los proximos 19 dias"
   ]
  },
  {
   "cell_type": "code",
   "execution_count": null,
   "id": "df9c1d05",
   "metadata": {},
   "outputs": [],
   "source": [
    "df = pd.read_csv('../data/VOO_ind_signal.csv',parse_dates=['date'])"
   ]
  },
  {
   "cell_type": "code",
   "execution_count": null,
   "id": "1ed39241",
   "metadata": {},
   "outputs": [],
   "source": [
    "df.head()"
   ]
  },
  {
   "cell_type": "markdown",
   "id": "cc0985e9",
   "metadata": {},
   "source": [
    "- Comprobamo el balance de las clases del target"
   ]
  },
  {
   "cell_type": "code",
   "execution_count": null,
   "id": "1ff9d262",
   "metadata": {},
   "outputs": [],
   "source": [
    "print(df['target'].value_counts(normalize=True))"
   ]
  },
  {
   "cell_type": "markdown",
   "id": "c310a578",
   "metadata": {},
   "source": [
    "#### 2.2. Selección de Características (Feature Selection)\n",
    "Basado en el análisis de correlación del EDA, se selecciona un subconjunto de características potente y poco redundante. Se incluyen las relaciones numéricas de nuestra estrategia campeona (Ichimoku) para darle al modelo la mejor información posible.\n"
   ]
  },
  {
   "cell_type": "code",
   "execution_count": null,
   "id": "a38a0bd3",
   "metadata": {},
   "outputs": [],
   "source": [
    "#Definicion de features con diferentes tipos para despues combinarlas. \n",
    "\n",
    "features_num = [\n",
    "    'rsi', 'macd_diff', 'bollinger_width', 'atr', 'adx', \n",
    "    'volume_ratio', 'price_vs_kijun', 'tenkan_vs_kijun'\n",
    "]\n",
    "\n",
    "features_bool = [\n",
    "    'signal_ema_price','signal_macd_buy',\n",
    "    'signal_stochastic_buy','signal_ichimoku_kijun_cross'\n",
    "]\n",
    "\n",
    "features_advan = ['body_size','upper_wick','lower_wick','rsi_roc_5',\n",
    "    'month_sin','month_cos']\n"
   ]
  },
  {
   "cell_type": "markdown",
   "id": "f24b03cf",
   "metadata": {},
   "source": [
    "- Para el entrenamiendo de diferentes modelos definimos diferentes tipos de features y despues las utilizaremos combianas, con esto lo que queremos averiguar es: \n",
    "    1) Cual de ellas tendra mejor rendimiento\n",
    "    2) ¿ Combinar las features nos da mejor rendimiento? o ¿ proporcionas mas ruido y peores rendimientos?"
   ]
  },
  {
   "cell_type": "code",
   "execution_count": null,
   "id": "02d4f91c",
   "metadata": {},
   "outputs": [],
   "source": [
    "# Creamos las X e y para las features_num (solamente)\n",
    "X_num = df[features_num]\n",
    "y = df['target'] # el traget al ser el mismo solo lo definimos una vez. \n",
    "\n",
    "# Creamos las X e y para la combinacion de features_num + features_bol\n",
    "features_num_bol = features_num + features_bool\n",
    "X_num_bol = df[features_num_bol]\n",
    "\n",
    "# Creamos la combinacion de features_num + features_advan\n",
    "features_num_advan = features_num + features_advan\n",
    "X_num_advan = df[features_num_advan]"
   ]
  },
  {
   "cell_type": "markdown",
   "id": "9b75b5ca",
   "metadata": {},
   "source": [
    "#### 2.4. División y Escalado de Datos\n",
    "- Se dividen los datos para cada tipo de features. \n",
    "- Despues hace el escalado de los datos y guardado en las diferentes carpetas donde guaradaremos los modelos entrenados. "
   ]
  },
  {
   "cell_type": "code",
   "execution_count": null,
   "id": "e27bc95c",
   "metadata": {},
   "outputs": [],
   "source": [
    "#Division de los datos\n",
    "X_train_num, X_test_num, y_train_num, y_test_num = train_test_split(X_num, y, test_size=0.2, shuffle=False)\n",
    "\n",
    "X_train_num_bol, X_test_num_bol, y_train_num_bol,y_test_num_bol = train_test_split(X_num_bol,y,test_size=0.2,shuffle=False)\n",
    "\n",
    "X_train_num_advan,X_test_num_advan,y_train_num_advan, y_test_num_advan = train_test_split(X_num_advan,y,test_size=0.2,shuffle=False)"
   ]
  },
  {
   "cell_type": "code",
   "execution_count": null,
   "id": "932a35d4",
   "metadata": {},
   "outputs": [],
   "source": [
    "#Escalado para los datos de features_num\n",
    "scaler_num = StandardScaler()\n",
    "X_train_scaled_num = scaler_num.fit_transform(X_train_num)\n",
    "X_test_scaled_num = scaler_num.transform(X_test_num)\n",
    "\n",
    "with open('../models/models_num/scaler_num.pkl', 'wb') as f:\n",
    "    pickle.dump(scaler_num, f)\n",
    "\n",
    "\n",
    "#Escalado para los datos de features_num_bol\n",
    "scaler_numbol = StandardScaler()\n",
    "X_train_scaled_numbol = scaler_numbol.fit_transform(X_train_num_bol)\n",
    "X_test_scaled_numbol = scaler_numbol.transform(X_test_num_bol)\n",
    "\n",
    "\n",
    "with open('../models/models_numbols/scaler_numbol.pkl', 'wb') as f:\n",
    "    pickle.dump(scaler_numbol, f)\n",
    "\n",
    "#Escalado para los datos de features_num_advan\n",
    "scaler_numadvan = StandardScaler()\n",
    "X_train_scaled_numadvan = scaler_numadvan.fit_transform(X_train_num_advan)\n",
    "X_test_scaled_numadvan = scaler_numadvan.transform(X_test_num_advan)\n",
    "\n",
    "\n",
    "with open('../models/models_numadvan/scaler_numadvan.pkl', 'wb') as f:\n",
    "    pickle.dump(scaler_numadvan, f)"
   ]
  },
  {
   "cell_type": "markdown",
   "id": "4538346c",
   "metadata": {},
   "source": [
    "### 3. Entrenamiento de modelos. (SIN AJUSTE DE HIPERPARAMETROS)"
   ]
  },
  {
   "cell_type": "code",
   "execution_count": null,
   "id": "a9c39bf7",
   "metadata": {},
   "outputs": [],
   "source": [
    "def train_evaluate_models (model, model_name:str, X_train, y_train, X_test, y_test,save_model:bool=False, save_dir : str ='models'):\n",
    "    \n",
    "    print(f\"Entrenando modelo de : {model_name}\")\n",
    "    \n",
    "    model.fit(X_train,y_train)\n",
    "    y_pred = model.predict(X_test)\n",
    "    \n",
    "    print(f\"Informe de Clasisficación:{model_name}\")\n",
    "    print(classification_report(y_test,y_pred))\n",
    "    \n",
    "    print(f\"Matriz de Confusión de {model_name}\")\n",
    "    ConfusionMatrixDisplay.from_estimator(model,X_test,y_test,cmap='Blues')\n",
    "    plt.title(f'Matriz de Confusión - {model_name}')\n",
    "    plt.show()\n",
    "    \n",
    "    if save_model: \n",
    "        if not os.path.exists(save_dir):\n",
    "            os.makedirs(save_dir)\n",
    "            print(f\"Carpeta '{save_dir} creada \")\n",
    "        filepath = os.path.join(save_dir,f'{model_name}.pkl')\n",
    "        with open(filepath,'wb') as f: \n",
    "            pickle.dump(model,f)\n",
    "        print(f'El modelo se ha guardado con exito')\n",
    "\n",
    "    return model "
   ]
  },
  {
   "cell_type": "markdown",
   "id": "0455e236",
   "metadata": {},
   "source": [
    "#### 3.1 Entrenamiento de modelos con ``class_weight='balanced'`` "
   ]
  },
  {
   "cell_type": "markdown",
   "id": "c781a6aa",
   "metadata": {},
   "source": [
    "#### 3.1.1 Regresion logistica"
   ]
  },
  {
   "cell_type": "code",
   "execution_count": null,
   "id": "bbf31869",
   "metadata": {},
   "outputs": [],
   "source": [
    "log_reg_num = LogisticRegression(random_state=42,class_weight='balanced',max_iter=1000)\n",
    "log_reg_num_train = train_evaluate_models(\n",
    "    model=log_reg_num,\n",
    "    model_name='Regresion_logistica_num',\n",
    "    X_train=X_train_scaled_num,\n",
    "    y_train=y_train_num,\n",
    "    X_test=X_test_scaled_num,\n",
    "    y_test=y_test_num,\n",
    "    save_model=True,\n",
    "    save_dir='../models/models_num/'\n",
    ")"
   ]
  },
  {
   "cell_type": "code",
   "execution_count": null,
   "id": "1ca46365",
   "metadata": {},
   "outputs": [],
   "source": [
    "log_reg_numbol = LogisticRegression(random_state=42,class_weight='balanced',max_iter=1000)\n",
    "log_reg_numbol_train = train_evaluate_models(\n",
    "    model=log_reg_numbol,\n",
    "    model_name='Regresion_logistica_numbol',\n",
    "    X_train=X_train_scaled_numbol,\n",
    "    y_train=y_train_num_bol,\n",
    "    X_test=X_test_scaled_numbol,\n",
    "    y_test=y_test_num_bol,\n",
    "    save_model=True,\n",
    "    save_dir='../models/models_numbols/'\n",
    ")"
   ]
  },
  {
   "cell_type": "code",
   "execution_count": null,
   "id": "3857f29c",
   "metadata": {},
   "outputs": [],
   "source": [
    "log_reg_numadvan = LogisticRegression(random_state=42,class_weight='balanced',max_iter=1000)\n",
    "log_reg_numadvan_train = train_evaluate_models(\n",
    "    model=log_reg_numadvan,\n",
    "    model_name='Regresion_logistica_numbol',\n",
    "    X_train=X_train_scaled_numadvan,\n",
    "    y_train=y_train_num_advan,\n",
    "    X_test=X_test_scaled_numadvan,\n",
    "    y_test=y_test_num_advan,\n",
    "    save_model=True,\n",
    "    save_dir='../models/models_numadvan/'\n",
    ")"
   ]
  },
  {
   "cell_type": "markdown",
   "id": "4fde767c",
   "metadata": {},
   "source": [
    "#### 3.1.2 Random Forest\n"
   ]
  },
  {
   "cell_type": "code",
   "execution_count": null,
   "id": "ac24b4c9",
   "metadata": {},
   "outputs": [],
   "source": [
    "rf_num = RandomForestClassifier(\n",
    "    n_estimators=100,       \n",
    "    random_state=42,\n",
    "    class_weight='balanced', \n",
    "    n_jobs=-1               \n",
    ")\n",
    "rf_num_train = train_evaluate_models(\n",
    "    model=rf_num,\n",
    "    model_name='Random Forest Num',\n",
    "    X_train=X_train_scaled_num,\n",
    "    y_train=y_train_num,\n",
    "    X_test=X_test_scaled_num,\n",
    "    y_test=y_test_num,\n",
    "    save_model=True,\n",
    "    save_dir='../models/models_num/'\n",
    ")\n"
   ]
  },
  {
   "cell_type": "code",
   "execution_count": null,
   "id": "b7e4771b",
   "metadata": {},
   "outputs": [],
   "source": [
    "rf_numbol = RandomForestClassifier(\n",
    "    n_estimators=100,       \n",
    "    random_state=42,\n",
    "    class_weight='balanced', \n",
    "    n_jobs=-1               \n",
    ")\n",
    "\n",
    "rf_numbol_train = train_evaluate_models(\n",
    "    model=rf_numbol,\n",
    "    model_name='Random_Forest_NumBol',\n",
    "    X_train=X_train_scaled_numbol,\n",
    "    y_train=y_train_num_bol,\n",
    "    X_test=X_test_scaled_numbol,\n",
    "    y_test=y_test_num_bol,\n",
    "    save_model=True,\n",
    "    save_dir='../models/models_numbols/'\n",
    ")\n"
   ]
  },
  {
   "cell_type": "code",
   "execution_count": null,
   "id": "90e101e7",
   "metadata": {},
   "outputs": [],
   "source": [
    "rf_numadvan = RandomForestClassifier(\n",
    "    n_estimators=100,       \n",
    "    random_state=42,\n",
    "    class_weight='balanced', \n",
    "    n_jobs=-1               \n",
    ")\n",
    "\n",
    "rf_numadvan_train = train_evaluate_models(\n",
    "    model=rf_numadvan,\n",
    "    model_name='Random_Forest_NumAdv',\n",
    "    X_train=X_train_scaled_numadvan,\n",
    "    y_train=y_train_num_advan,\n",
    "    X_test=X_test_scaled_numadvan,\n",
    "    y_test=y_test_num_advan,\n",
    "    save_model=True,\n",
    "    save_dir='../models/models_numadvan/'\n",
    ")\n"
   ]
  },
  {
   "cell_type": "markdown",
   "id": "0570ef4d",
   "metadata": {},
   "source": [
    "#### 3.1.3 Suport Vector Machine (SVM)"
   ]
  },
  {
   "cell_type": "code",
   "execution_count": null,
   "id": "a820dbe7",
   "metadata": {},
   "outputs": [],
   "source": [
    "svm_num = SVC(\n",
    "    probability=True,       \n",
    "    random_state=42,\n",
    "    class_weight='balanced'\n",
    ")\n",
    "\n",
    "svm_num_train = train_evaluate_models(\n",
    "    model=svm_num,\n",
    "    model_name='Support_Vector_Machine_Num',\n",
    "    X_train=X_train_scaled_num,\n",
    "    y_train=y_train_num,\n",
    "    X_test=X_test_scaled_num,\n",
    "    y_test=y_test_num,\n",
    "    save_model=True,\n",
    "    save_dir='../models/models_num/'\n",
    ")"
   ]
  },
  {
   "cell_type": "code",
   "execution_count": null,
   "id": "f4cd47d2",
   "metadata": {},
   "outputs": [],
   "source": [
    "svm_numbol = SVC(\n",
    "    probability=True,       \n",
    "    random_state=42,\n",
    "    class_weight='balanced'\n",
    ")\n",
    "\n",
    "svm_numbol_train = train_evaluate_models(\n",
    "    model=svm_numbol,\n",
    "    model_name='Support_vector_Machine_NumBol',\n",
    "    X_train=X_train_scaled_numbol,\n",
    "    y_train=y_train_num_bol,\n",
    "    X_test=X_test_scaled_numbol,\n",
    "    y_test=y_test_num_bol,\n",
    "    save_model=True,\n",
    "    save_dir='../models/models_numbols/'\n",
    ")  \n"
   ]
  },
  {
   "cell_type": "code",
   "execution_count": null,
   "id": "e47f392f",
   "metadata": {},
   "outputs": [],
   "source": [
    "svm_numadvan = SVC(\n",
    "    probability=True,       \n",
    "    random_state=42,\n",
    "    class_weight='balanced'\n",
    ")\n",
    "\n",
    "svm_numadvan_train = train_evaluate_models(\n",
    "    model=svm_numadvan,\n",
    "    model_name='Support_Vector_machine_numAdvanc',\n",
    "    X_train=X_train_scaled_numadvan,\n",
    "    y_train=y_train_num_advan,\n",
    "    X_test=X_test_scaled_numadvan,\n",
    "    y_test=y_test_num_advan,\n",
    "    save_model=True,\n",
    "    save_dir='../models/models_numadvan/'\n",
    ")    \n"
   ]
  },
  {
   "cell_type": "markdown",
   "id": "688e5902",
   "metadata": {},
   "source": [
    "#### 3.2 Entrenamiento de modelos con ``SMOTE`` "
   ]
  },
  {
   "cell_type": "code",
   "execution_count": null,
   "id": "83cf463d",
   "metadata": {},
   "outputs": [],
   "source": [
    "smote_num = SMOTE(random_state=42)\n",
    "X_train_num_resampled, y_train_num_resampled = smote_num.fit_resample(X_train_scaled_num, y_train_num)\n",
    "\n",
    "smote_numbool = SMOTE(random_state=42)\n",
    "X_train_numbool_resampled, y_train_numbool_resampled = smote_numbool.fit_resample(X_train_scaled_numbol, y_train_num_bol)\n",
    "\n",
    "smote_numadvan = SMOTE(random_state=42)\n",
    "X_train_numadvan_resampled, y_train_numadvan_resampled = smote_numadvan.fit_resample(X_train_scaled_numadvan,y_train_num_advan)"
   ]
  },
  {
   "cell_type": "markdown",
   "id": "3910c50a",
   "metadata": {},
   "source": [
    "#### 3.2.1 GRADIEN BOOSTING\n"
   ]
  },
  {
   "cell_type": "code",
   "execution_count": null,
   "id": "a09acca8",
   "metadata": {},
   "outputs": [],
   "source": [
    "gb_model = GradientBoostingClassifier(\n",
    "    n_estimators=1000,       \n",
    "    random_state=42,\n",
    "    learning_rate=0.05,\n",
    "    max_depth=3\n",
    ")"
   ]
  },
  {
   "cell_type": "code",
   "execution_count": null,
   "id": "db7c80ee",
   "metadata": {},
   "outputs": [],
   "source": [
    "gb_model_train_num = train_evaluate_models(\n",
    "    model=gb_model,\n",
    "    model_name='Gradien_Boosting_num',\n",
    "    X_train=X_train_num_resampled,     \n",
    "    y_train=y_train_num_resampled,      \n",
    "    X_test=X_test_scaled_num,           \n",
    "    y_test=y_test_num,\n",
    "    save_model=True,\n",
    "    save_dir='../models/models_num/'\n",
    ")"
   ]
  },
  {
   "cell_type": "code",
   "execution_count": null,
   "id": "e50ff671",
   "metadata": {},
   "outputs": [],
   "source": [
    "gb_model_train_numbol = train_evaluate_models(\n",
    "    model=gb_model,\n",
    "    model_name='Gradient_boosting_numbol',\n",
    "    X_train=X_train_numbool_resampled,\n",
    "    y_train=y_train_numbool_resampled,\n",
    "    X_test=X_test_scaled_numbol,\n",
    "    y_test=y_test_num_bol,\n",
    "    save_model=True,\n",
    "    save_dir='../models/models_numbols/'\n",
    "    )"
   ]
  },
  {
   "cell_type": "code",
   "execution_count": null,
   "id": "01445531",
   "metadata": {},
   "outputs": [],
   "source": [
    "gb_model_train_numadvam = train_evaluate_models(\n",
    "    model=gb_model,\n",
    "    model_name='Gradient_boosting_numadvan',\n",
    "    X_train=X_train_numadvan_resampled,\n",
    "    y_train=y_train_numadvan_resampled,\n",
    "    X_test=X_test_scaled_numadvan,\n",
    "    y_test=y_test_num_advan,\n",
    "    save_model=True,\n",
    "    save_dir='../models/models_numadvan/'\n",
    "    )"
   ]
  },
  {
   "cell_type": "markdown",
   "id": "94336f0f",
   "metadata": {},
   "source": [
    "#### 3.2.2 XGBOOST"
   ]
  },
  {
   "cell_type": "code",
   "execution_count": null,
   "id": "47483143",
   "metadata": {},
   "outputs": [],
   "source": [
    "xgb_model = XGBClassifier(\n",
    "    n_estimators=1000,\n",
    "    random_state=42, \n",
    "    eval_metric='logloss',  \n",
    "    n_jobs=-1\n",
    ")"
   ]
  },
  {
   "cell_type": "code",
   "execution_count": null,
   "id": "d45e8e75",
   "metadata": {},
   "outputs": [],
   "source": [
    "xgb_model_num_train = train_evaluate_models(\n",
    "    model=xgb_model,\n",
    "    model_name='XGBoost_num',\n",
    "    X_train=X_train_num_resampled,     \n",
    "    y_train=y_train_num_resampled,      \n",
    "    X_test=X_test_scaled_num,           \n",
    "    y_test=y_test_num,\n",
    "    save_model=True,\n",
    "    save_dir='../models/models_num/'\n",
    ")\n"
   ]
  },
  {
   "cell_type": "code",
   "execution_count": null,
   "id": "c8fced85",
   "metadata": {},
   "outputs": [],
   "source": [
    "xgb_model_numbol_train = train_evaluate_models(\n",
    "    model=xgb_model,\n",
    "    model_name='XGBoost_numBol',\n",
    "    X_train=X_train_numbool_resampled,     \n",
    "    y_train=y_train_numbool_resampled,      \n",
    "    X_test=X_test_scaled_numbol,           \n",
    "    y_test=y_test_num_bol,\n",
    "    save_model=True,\n",
    "    save_dir='../models/models_numbols/'\n",
    ")"
   ]
  },
  {
   "cell_type": "code",
   "execution_count": null,
   "id": "513d244f",
   "metadata": {},
   "outputs": [],
   "source": [
    "xgb_model_numadvan_train = train_evaluate_models(\n",
    "    model=xgb_model,\n",
    "    model_name='XGBoost_numadvab',\n",
    "    X_train=X_train_numadvan_resampled,     \n",
    "    y_train=y_train_numadvan_resampled,      \n",
    "    X_test=X_test_scaled_numadvan,           \n",
    "    y_test=y_test_num_advan,\n",
    "    save_model=True,\n",
    "    save_dir='../models/models_numadvan/'\n",
    ")"
   ]
  },
  {
   "cell_type": "markdown",
   "id": "0847c34a",
   "metadata": {},
   "source": [
    "#### 3.3 Modelo de DeepLearning: MLP Classifier"
   ]
  },
  {
   "cell_type": "code",
   "execution_count": null,
   "id": "9407c4eb",
   "metadata": {},
   "outputs": [],
   "source": [
    "mlp_model = MLPClassifier(\n",
    "    hidden_layer_sizes=(50, 25), \n",
    "    random_state=42,\n",
    "    max_iter=1000, \n",
    "    activation='relu'\n",
    ")"
   ]
  },
  {
   "cell_type": "code",
   "execution_count": null,
   "id": "c51f8179",
   "metadata": {},
   "outputs": [],
   "source": [
    "mlp__model_num_trained = train_evaluate_models(\n",
    "    model=mlp_model,\n",
    "    model_name=\"Red Neuronal (MLP_num)\",\n",
    "    X_train=X_train_num_resampled,       \n",
    "    y_train=y_train_num_resampled,       \n",
    "    X_test=X_test_scaled_num,            \n",
    "    y_test=y_test_num,\n",
    "    save_model=True,\n",
    "    save_dir='../models/models_num/'\n",
    ")"
   ]
  },
  {
   "cell_type": "code",
   "execution_count": null,
   "id": "02e155c8",
   "metadata": {},
   "outputs": [],
   "source": [
    "mlp__model_numbol_trained = train_evaluate_models(\n",
    "    model=mlp_model,\n",
    "    model_name=\"Red Neuronal (MLP_numbol)\",\n",
    "    X_train=X_train_numbool_resampled,\n",
    "    y_train=y_train_numbool_resampled,\n",
    "    X_test=X_test_scaled_numbol,\n",
    "    y_test=y_test_num_bol,\n",
    "    save_model=True,\n",
    "    save_dir='../models/models_numbols/'\n",
    ")"
   ]
  },
  {
   "cell_type": "code",
   "execution_count": null,
   "id": "1b494390",
   "metadata": {},
   "outputs": [],
   "source": [
    "mlp__model_numadvan_trained = train_evaluate_models(\n",
    "    model=mlp_model,\n",
    "    model_name=\"Red Neuronal (MLP_numadvan)\",\n",
    "    X_train=X_train_numadvan_resampled,       \n",
    "    y_train=y_train_numadvan_resampled,       \n",
    "    X_test=X_test_scaled_numadvan,            \n",
    "    y_test=y_test_num_advan,\n",
    "    save_model=True,\n",
    "    save_dir='../models/models_numadvan/'\n",
    ")"
   ]
  },
  {
   "cell_type": "code",
   "execution_count": null,
   "id": "ccaaab58",
   "metadata": {},
   "outputs": [],
   "source": [
    "def generate_summary_report (model_dir:str,X_test,y_test)->pd.DataFrame:\n",
    "    \"\"\"\n",
    "    Carga todos los modelos .pkl de un directorio, los evalúa y devuelve un \n",
    "    DataFrame con un resumen completo de métricas, incluyendo los componentes\n",
    "    de la matriz de confusión.\n",
    "    \"\"\"\n",
    "    result_list=[]\n",
    "    \n",
    "    \n",
    "    "
   ]
  },
  {
   "cell_type": "markdown",
   "id": "cac4e02c",
   "metadata": {},
   "source": [
    "### 5. Ajuste de Hiper parametros\n"
   ]
  },
  {
   "cell_type": "markdown",
   "id": "0b5cbc65",
   "metadata": {},
   "source": [
    "- Para el ajuste de hiper parametros se selecciona Random Forest y XGboost ya que han sido los que mejor resultado dan. "
   ]
  },
  {
   "cell_type": "markdown",
   "id": "871ba16a",
   "metadata": {},
   "source": [
    "#### 5.1 Ajuste de hiperparametros en Random Forest. "
   ]
  },
  {
   "cell_type": "code",
   "execution_count": null,
   "id": "b7491fb4",
   "metadata": {},
   "outputs": [],
   "source": [
    "param_Hiper_rf = {\n",
    "    'n_estimators': [100, 200, 300],\n",
    "    'max_depth': [5, 7, 10, 15],\n",
    "    'min_samples_split': [2, 5, 10],\n",
    "    'min_samples_leaf': [1, 2, 4],\n",
    "    'max_features': ['sqrt', 0.5],\n",
    "    'class_weight': ['balanced']\n",
    "}"
   ]
  },
  {
   "cell_type": "code",
   "execution_count": null,
   "id": "593793d4",
   "metadata": {},
   "outputs": [],
   "source": [
    "rf = RandomForestClassifier(random_state=42, n_jobs=-1)"
   ]
  },
  {
   "cell_type": "code",
   "execution_count": null,
   "id": "04e1dc4c",
   "metadata": {},
   "outputs": [],
   "source": [
    "random_search_rf = RandomizedSearchCV(\n",
    "    estimator=rf,\n",
    "    param_distributions=param_Hiper_rf,\n",
    "    n_iter=50,  \n",
    "    cv=5,\n",
    "    scoring='precision', \n",
    "    n_jobs=-1,\n",
    "    verbose=2,\n",
    "    random_state=42\n",
    ")"
   ]
  },
  {
   "cell_type": "code",
   "execution_count": null,
   "id": "15e688db",
   "metadata": {},
   "outputs": [],
   "source": [
    "random_search_rf.fit(X_train_scaled_adv, y_train)"
   ]
  },
  {
   "cell_type": "code",
   "execution_count": null,
   "id": "1c5fbe2c",
   "metadata": {},
   "outputs": [],
   "source": [
    "y_pred_best_rf = random_search_rf.best_estimator_.predict(X_test_scaled_adv)"
   ]
  },
  {
   "cell_type": "code",
   "execution_count": null,
   "id": "4bd8d4e7",
   "metadata": {},
   "outputs": [],
   "source": [
    "print(random_search_rf.best_params_)"
   ]
  },
  {
   "cell_type": "code",
   "execution_count": null,
   "id": "5d9ffaa0",
   "metadata": {},
   "outputs": [],
   "source": [
    "print(\"Informe de Clasificación ajustada Random Forest)\")\n",
    "print(classification_report(y_test, y_pred_best_rf))\n"
   ]
  },
  {
   "cell_type": "code",
   "execution_count": null,
   "id": "d9e4827f",
   "metadata": {},
   "outputs": [],
   "source": [
    "ConfusionMatrixDisplay.from_estimator(random_search_rf, X_test_scaled_adv, y_test, cmap='magma')\n",
    "plt.title('Matriz de Confusión - Modelo Final Random Forest')\n",
    "plt.show()"
   ]
  },
  {
   "cell_type": "markdown",
   "id": "c3e488e1",
   "metadata": {},
   "source": [
    "XGBOOST"
   ]
  },
  {
   "cell_type": "code",
   "execution_count": null,
   "id": "0232b7fa",
   "metadata": {},
   "outputs": [],
   "source": [
    "param_dist_xgb = {\n",
    "    'n_estimators': [100, 200, 300],\n",
    "    'max_depth': [3, 5, 7, 10],\n",
    "    'learning_rate': [0.05, 0.1, 0.2, 0.3],\n",
    "    'subsample': [0.7, 0.8, 1.0],\n",
    "    'colsample_bytree': [0.7, 0.8, 1.0]\n",
    "}"
   ]
  },
  {
   "cell_type": "code",
   "execution_count": null,
   "id": "af782e93",
   "metadata": {},
   "outputs": [],
   "source": [
    "xgb = XGBClassifier(random_state=42, use_label_encoder=False, eval_metric='logloss', n_jobs=-1)\n",
    "\n",
    "\n",
    "random_search_xgb = (\n",
    "    estimator=xgb,\n",
    "    param_distributions=param_dist_xgb,\n",
    "    n_iter=100,\n",
    "    cv=5,\n",
    "    scoring=['precision', 'recall', 'f1'],\n",
    "    n_jobs=-1,\n",
    "    verbose=2,\n",
    "    random_state=42\n",
    ")\n",
    "\n",
    "\n",
    "random_search_xgb.fit(X_train_resamp_adv, y_train_resamp_adv)\n",
    "\n",
    "\n",
    "print(\"\\n--- Búsqueda para XGBoost completada ---\")\n",
    "print(\"Mejores parámetros encontrados:\")\n",
    "print(random_search_xgb.best_params_)\n",
    "\n",
    "best_xgb_model = random_search_xgb.best_estimator_\n",
    "y_pred_best_xgb = best_xgb_model.predict(X_test_scaled_adv)\n",
    "\n",
    "print(\"\\n--- Informe de Clasificación (XGBoost OPTIMIZADO) ---\")\n",
    "print(classification_report(y_test, y_pred_best_xgb))"
   ]
  }
 ],
 "metadata": {
  "kernelspec": {
   "display_name": "venv",
   "language": "python",
   "name": "python3"
  },
  "language_info": {
   "codemirror_mode": {
    "name": "ipython",
    "version": 3
   },
   "file_extension": ".py",
   "mimetype": "text/x-python",
   "name": "python",
   "nbconvert_exporter": "python",
   "pygments_lexer": "ipython3",
   "version": "3.13.3"
  }
 },
 "nbformat": 4,
 "nbformat_minor": 5
}
